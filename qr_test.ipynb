{
 "cells": [
  {
   "cell_type": "code",
   "execution_count": 1,
   "metadata": {},
   "outputs": [],
   "source": [
    "import cv2\n",
    "from barcode import EAN13\n",
    "from barcode.writer import ImageWriter\n",
    "import qrcode\n",
    "from pyzbar.pyzbar import decode"
   ]
  },
  {
   "cell_type": "code",
   "execution_count": 2,
   "metadata": {},
   "outputs": [],
   "source": [
    "img = qrcode.make('http://www.google.com')\n",
    "img.save('qrcode.png')"
   ]
  },
  {
   "cell_type": "code",
   "execution_count": 3,
   "metadata": {},
   "outputs": [
    {
     "data": {
      "text/plain": [
       "'barcode.png'"
      ]
     },
     "execution_count": 3,
     "metadata": {},
     "output_type": "execute_result"
    }
   ],
   "source": [
    "barcode = EAN13('123456789012', writer=ImageWriter())\n",
    "barcode.save('barcode')"
   ]
  },
  {
   "cell_type": "code",
   "execution_count": 4,
   "metadata": {},
   "outputs": [
    {
     "name": "stdout",
     "output_type": "stream",
     "text": [
      "[Decoded(data=b'http://www.google.com', type='QRCODE', rect=Rect(left=42, top=42, width=247, height=247), polygon=[Point(x=42, y=42), Point(x=42, y=287), Point(x=289, y=289), Point(x=287, y=42)], quality=1, orientation='UP')]\n"
     ]
    }
   ],
   "source": [
    "path = 'qrcode.png'\n",
    "image = cv2.imread(path)\n",
    "\n",
    "\n",
    "if image is None:\n",
    "    print(f\"이미지 파일을 읽을 수 없습니다: {image}\")\n",
    "    exit()\n",
    "\n",
    "decoded_data = decode(image)\n",
    "print(decoded_data)"
   ]
  },
  {
   "cell_type": "code",
   "execution_count": null,
   "metadata": {},
   "outputs": [
    {
     "name": "stdout",
     "output_type": "stream",
     "text": [
      "Type: QRCODE, Data: http://www.google.com\n"
     ]
    }
   ],
   "source": [
    "if decoded_data:\n",
    "    for data in decoded_data:\n",
    "        symbol_type = data.type  # 코드 종류 (QRCODE, ZBAR_CODE128 등)\n",
    "        code_data = data.data.decode('utf-8') # 디코딩된 데이터 (바이트 형태이므로 utf-8로 디코딩)\n",
    "        polygon = data.polygon # 코드 영역의 꼭지점 좌표\n",
    "\n",
    "        print(f\"Type: {symbol_type}, Data: {code_data}\")\n",
    "\n",
    "        # 코드 영역 표시 (OpenCV를 사용하여 이미지에 사각형 그리기)\n",
    "        n = len(polygon)\n",
    "        for i in range(n):\n",
    "            cv2.line(image, polygon[i], polygon[(i+1) % n], (0, 255, 0), 2) # 녹색 사각형\n",
    "        cv2.putText(image, code_data, polygon[0], cv2.FONT_HERSHEY_SIMPLEX, 0.9, (0, 0, 255), 2) # 빨간색 텍스트\n",
    "\n",
    "    # 결과 이미지 표시\n",
    "    cv2.imshow(\"Barcode/QR Code Detection\", image)\n",
    "    cv2.waitKey(0)\n",
    "    cv2.destroyAllWindows()\n",
    "else:\n",
    "    print(\"바코드 또는 QR 코드를 찾을 수 없습니다.\")"
   ]
  }
 ],
 "metadata": {
  "kernelspec": {
   "display_name": "mes_env",
   "language": "python",
   "name": "python3"
  },
  "language_info": {
   "codemirror_mode": {
    "name": "ipython",
    "version": 3
   },
   "file_extension": ".py",
   "mimetype": "text/x-python",
   "name": "python",
   "nbconvert_exporter": "python",
   "pygments_lexer": "ipython3",
   "version": "3.13.2"
  }
 },
 "nbformat": 4,
 "nbformat_minor": 2
}
