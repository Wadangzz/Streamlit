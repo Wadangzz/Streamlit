{
 "cells": [
  {
   "cell_type": "code",
   "execution_count": null,
   "metadata": {},
   "outputs": [],
   "source": [
    "import sqlite3\n",
    "import sqlitepractice as sp\n"
   ]
  },
  {
   "cell_type": "code",
   "execution_count": 2,
   "metadata": {},
   "outputs": [],
   "source": [
    "create_sql_table = \"\"\"\n",
    "CREATE TABLE my_table (\n",
    "                        id INTEGER PRIMARY KEY AUTOINCREMENT,\n",
    "                        name TEXT NOT NULL,\n",
    "                        description TEXT NOT NULL,\n",
    "                        price INTEGER,\n",
    "                        quantity INTEGER);\n",
    "                        \"\"\"\n",
    "insert_sql = \"INSERT INTO my_table (name, description, price, quantity) VALUES ( ? , ? , ? , ? )\"\n",
    "\n",
    "select_sql = \"SELECT * FROM my_table\"\n",
    "delete_sql = \"DELETE FROM my_table WHERE name = ?\"\n",
    "update_sql = \"UPDATE my_table SET price = ? WHERE name = ?\"\n",
    "inout_sql = \"UPDATE my_table SET quantity = ? WHERE description = ?\"\n",
    "remove_sql = \"DROP TABLE datatable;\""
   ]
  },
  {
   "cell_type": "code",
   "execution_count": 3,
   "metadata": {},
   "outputs": [],
   "source": [
    "def execute_query(query,params=()):\n",
    "    db = f'{input('DB파일명을 입력하세요. : ')}.db'\n",
    "    conn = sqlite3.connect(db)\n",
    "    cursor = conn.cursor()\n",
    "    if isinstance(params,list):\n",
    "        cursor.executemany(query,params)\n",
    "    else:\n",
    "        cursor.execute(query,params)\n",
    "    conn.commit()\n",
    "    conn.close()"
   ]
  },
  {
   "cell_type": "code",
   "execution_count": 5,
   "metadata": {},
   "outputs": [],
   "source": [
    "def inout(params):\n",
    "    db = f'{input('DB파일명을 입력하세요. : ')}.db'\n",
    "    conn = sqlite3.connect(db)\n",
    "    cursor = conn.cursor()\n",
    "    cursor.execute(\"SELECT description,quantity FROM my_table\")\n",
    "    rows = cursor.fetchall()\n",
    "    params = list(params)\n",
    "    for row in rows:\n",
    "        if row[0] == params[1]:\n",
    "            params[0] += row[1]\n",
    "        \n",
    "    cursor.execute(inout_sql,params)\n",
    "\n",
    "    conn.commit()\n",
    "    conn.close()"
   ]
  },
  {
   "cell_type": "code",
   "execution_count": 6,
   "metadata": {},
   "outputs": [],
   "source": [
    "def fetch_all_data():\n",
    "    db = f'{input('DB파일명을 입력하세요. : ')}.db'\n",
    "    conn = sqlite3.connect(db)\n",
    "    cursor = conn.cursor()\n",
    "    cursor.execute(\"SELECT * FROM my_table\")\n",
    "    rows = cursor.fetchall()\n",
    "    print(rows)\n",
    "    for row in rows:\n",
    "        print(f'id[{row[0]}] / name : {row[1]} / description : {row[2]} / price : {row[3]}] / quantity : {row[4]}')\n",
    "    \n",
    "    conn.commit()\n",
    "    conn.close()"
   ]
  },
  {
   "cell_type": "code",
   "execution_count": 15,
   "metadata": {},
   "outputs": [],
   "source": [
    "execute_query(create_sql_table)"
   ]
  },
  {
   "cell_type": "code",
   "execution_count": 49,
   "metadata": {},
   "outputs": [],
   "source": [
    "products_list = [\n",
    "                ('세탁기','Bespoke 워시타워', 3500000,5),\n",
    "                ('TV', 'LG OLED 80인치', 10000000,3),\n",
    "                ('냉장고', 'Bespoke 키친핏 4도어', 1500000,3)\n",
    "                ]"
   ]
  },
  {
   "cell_type": "code",
   "execution_count": 54,
   "metadata": {},
   "outputs": [],
   "source": [
    "execute_query(insert_sql,products_list)"
   ]
  },
  {
   "cell_type": "code",
   "execution_count": 58,
   "metadata": {},
   "outputs": [],
   "source": [
    "execute_query(insert_sql,('에어컨', 'Bespoke 무풍 2in1',2500000,4))\n",
    "execute_query(insert_sql,('에어컨', 'LG OBjet 2in1', 2800000,3))"
   ]
  },
  {
   "cell_type": "code",
   "execution_count": 20,
   "metadata": {},
   "outputs": [
    {
     "name": "stdout",
     "output_type": "stream",
     "text": [
      "[]\n"
     ]
    }
   ],
   "source": [
    "fetch_all_data()"
   ]
  },
  {
   "cell_type": "code",
   "execution_count": 18,
   "metadata": {},
   "outputs": [],
   "source": [
    "inout((2,'Bespoke 무풍 2in1'))"
   ]
  },
  {
   "cell_type": "code",
   "execution_count": 8,
   "metadata": {},
   "outputs": [],
   "source": [
    "execute_query(remove_sql)"
   ]
  }
 ],
 "metadata": {
  "kernelspec": {
   "display_name": "mes_env",
   "language": "python",
   "name": "python3"
  },
  "language_info": {
   "codemirror_mode": {
    "name": "ipython",
    "version": 3
   },
   "file_extension": ".py",
   "mimetype": "text/x-python",
   "name": "python",
   "nbconvert_exporter": "python",
   "pygments_lexer": "ipython3",
   "version": "3.13.2"
  }
 },
 "nbformat": 4,
 "nbformat_minor": 2
}
